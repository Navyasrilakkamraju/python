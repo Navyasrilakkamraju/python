{
 "cells": [
  {
   "cell_type": "markdown",
   "metadata": {},
   "source": [
    "## binary search\n",
    "\n",
    "### can be applied only on sorted list\n",
    "###  can be applied only on unique list"
   ]
  },
  {
   "cell_type": "code",
   "execution_count": 1,
   "metadata": {},
   "outputs": [
    {
     "name": "stdout",
     "output_type": "stream",
     "text": [
      "item is not found\n"
     ]
    }
   ],
   "source": [
    "def binarySearch(a,lIndex,rIndex,tarItem):\n",
    "    while lIndex <= rIndex:\n",
    "        mIndex=lIndex+(rIndex-lIndex)//2;\n",
    "        if a[mIndex] == tarItem:\n",
    "            return mIndex\n",
    "        if a[mIndex] > tarItem:\n",
    "            rIndex = mIndex-1\n",
    "        else:\n",
    "            lIndex =mIndex+1\n",
    "    return -1\n",
    "list1 =[1,4,9,15,25,45,57,88,98]\n",
    "res = binarySearch(list1,0,8,818)\n",
    "if res!=-1:\n",
    "    print(\"item is found\");\n",
    "else:\n",
    "    print(\"item is not found\");\n",
    "    "
   ]
  },
  {
   "cell_type": "markdown",
   "metadata": {},
   "source": [
    "## bubble sort\n",
    "### it compares the adj items , if the first item is greater than second item then  we need to swap the items"
   ]
  },
  {
   "cell_type": "code",
   "execution_count": 2,
   "metadata": {},
   "outputs": [
    {
     "name": "stdout",
     "output_type": "stream",
     "text": [
      "1 3 6 18 19 25 "
     ]
    }
   ],
   "source": [
    "def bubbleSort(a):\n",
    "    for i in range(len(a)-1):\n",
    "        for j in range(len(a)-1):\n",
    "            if a[j]>a[j+1]:\n",
    "                a[j],a[j+1]=a[j+1],a[j]\n",
    "    for i in range(len(a)):\n",
    "        print(a[i],end=\" \")\n",
    "list1=[19,1,25,6,18,3]\n",
    "bubbleSort(list1)\n",
    "                "
   ]
  },
  {
   "cell_type": "markdown",
   "metadata": {},
   "source": [
    "## strings in python\n",
    "\n",
    "### A string is a sequence of characters <br>\n",
    "### the conversion of character to a number is happens with ASCII number\n",
    "\n",
    "## ASCII Numbers\n",
    "\n",
    "### A-Z.....65 to \n",
    "### a-z......\n",
    "### "
   ]
  },
  {
   "cell_type": "code",
   "execution_count": 3,
   "metadata": {},
   "outputs": [
    {
     "name": "stdout",
     "output_type": "stream",
     "text": [
      "application\n",
      "application\n",
      "application test\n",
      "     working\n",
      "     completed\n",
      "     list\n",
      "     strings\n",
      "     python\n"
     ]
    }
   ],
   "source": [
    "# creating a string\n",
    "str=\"application\"\n",
    "print(str)\n",
    "\n",
    "str1=\"application\"\n",
    "print(str1)\n",
    "\n",
    "str2=\"\"\"application test\n",
    "     working\n",
    "     completed\n",
    "     list\n",
    "     strings\n",
    "     python\"\"\"\n",
    "print(str2)"
   ]
  },
  {
   "cell_type": "code",
   "execution_count": 11,
   "metadata": {},
   "outputs": [
    {
     "name": "stdout",
     "output_type": "stream",
     "text": [
      "application\n",
      "str[0]=  a\n",
      "str[1]=  p\n",
      "str[-1]=  n\n",
      "str[-2]=  o\n",
      "str[-3]=  i\n",
      "str[1:5]=  ppli\n",
      "str[:5]=  appli\n",
      "str[5:-2]=  cati\n",
      "str[::-1]=  noitacilppa\n"
     ]
    }
   ],
   "source": [
    "str=\"application\"\n",
    "print(str)\n",
    "print(\"str[0]= \",str[0])\n",
    "print(\"str[1]= \",str[1])\n",
    "print(\"str[-1]= \",str[-1])\n",
    "print(\"str[-2]= \",str[-2])\n",
    "print(\"str[-3]= \",str[-3])\n",
    "print(\"str[1:5]= \",str[1:5])\n",
    "print(\"str[:5]= \",str[:5])\n",
    "print(\"str[5:-2]= \",str[5:-2])\n",
    "print(\"str[::-1]= \",str[::-1])"
   ]
  },
  {
   "cell_type": "code",
   "execution_count": 2,
   "metadata": {},
   "outputs": [
    {
     "name": "stdout",
     "output_type": "stream",
     "text": [
      "True\n"
     ]
    }
   ],
   "source": [
    "s='foo'\n",
    "t='bar'\n",
    "print('barf' in 2*(s+t))"
   ]
  },
  {
   "cell_type": "code",
   "execution_count": 1,
   "metadata": {},
   "outputs": [
    {
     "name": "stdout",
     "output_type": "stream",
     "text": [
      "16\n",
      "0\n"
     ]
    }
   ],
   "source": [
    "def sumOnlyEvenDigits(str):\n",
    "    sum=0\n",
    "    lst=list(str)\n",
    "    for x in range(len(lst)):\n",
    "        if ord(lst[x]) >= 48 and ord(lst[x]) <= 57:\n",
    "            ac = ord(lst[x]) - 48\n",
    "            if(ac%2==0):\n",
    "                sum=sum + ac\n",
    "    return sum\n",
    "\n",
    "print(sumOnlyEvenDigits(\"Application1889\"))\n",
    "print(sumOnlyEvenDigits(\"Application3195\"))\n"
   ]
  },
  {
   "cell_type": "code",
   "execution_count": 3,
   "metadata": {},
   "outputs": [
    {
     "name": "stdout",
     "output_type": "stream",
     "text": [
      "hello@john!!\n"
     ]
    }
   ],
   "source": [
    "str='Hello@John!!'\n",
    "print(str.lower())"
   ]
  },
  {
   "cell_type": "code",
   "execution_count": 11,
   "metadata": {},
   "outputs": [
    {
     "data": {
      "text/plain": [
       "['a', 'P', 'P', 'l', 'i', 'c', 'A', 'T', 'I', 'O', 'N']"
      ]
     },
     "execution_count": 11,
     "metadata": {},
     "output_type": "execute_result"
    }
   ],
   "source": [
    "    def caseConversion(str):\n",
    "        lst = list(str)\n",
    "        for x in range(len(lst)):\n",
    "            if ord(lst[x]) >= 65 and ord(lst[x]) <= 90:\n",
    "                lst[x] =chr(ord(lst[x])+32)\n",
    "            elif ord(lst[x]) >= 97 and ord(lst[x]) <= 122:\n",
    "                lst[x] = chr(ord(lst[x])-32)\n",
    "        return lst\n",
    "    caseConversion(\"AppLICation\")"
   ]
  },
  {
   "cell_type": "code",
   "execution_count": 19,
   "metadata": {},
   "outputs": [
    {
     "data": {
      "text/plain": [
       "'b'"
      ]
     },
     "execution_count": 19,
     "metadata": {},
     "output_type": "execute_result"
    }
   ],
   "source": [
    "chr(98)"
   ]
  },
  {
   "cell_type": "code",
   "execution_count": null,
   "metadata": {},
   "outputs": [],
   "source": []
  }
 ],
 "metadata": {
  "kernelspec": {
   "display_name": "Python 3",
   "language": "python",
   "name": "python3"
  },
  "language_info": {
   "codemirror_mode": {
    "name": "ipython",
    "version": 3
   },
   "file_extension": ".py",
   "mimetype": "text/x-python",
   "name": "python",
   "nbconvert_exporter": "python",
   "pygments_lexer": "ipython3",
   "version": "3.7.3"
  }
 },
 "nbformat": 4,
 "nbformat_minor": 2
}
