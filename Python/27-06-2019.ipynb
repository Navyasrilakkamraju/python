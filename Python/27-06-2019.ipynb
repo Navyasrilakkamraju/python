{
 "cells": [
  {
   "cell_type": "code",
   "execution_count": 19,
   "metadata": {},
   "outputs": [
    {
     "name": "stdout",
     "output_type": "stream",
     "text": [
      "file is created\n"
     ]
    }
   ],
   "source": [
    "#function to create a file and write some data\n",
    "def createfile(filename):\n",
    "    f = open(filename,\"w\")\n",
    "    for i in range(10):\n",
    "        f.write(\"this is %d line\\n\" % i)\n",
    "    print(\"file is created\")\n",
    "    f.close()\n",
    "    return\n",
    "createfile(\"file1.txt\")"
   ]
  },
  {
   "cell_type": "code",
   "execution_count": 20,
   "metadata": {},
   "outputs": [
    {
     "name": "stdout",
     "output_type": "stream",
     "text": [
      "this is 0 line\n",
      "this is 1 line\n",
      "this is 2 line\n",
      "this is 3 line\n",
      "this is 4 line\n",
      "this is 5 line\n",
      "this is 6 line\n",
      "this is 7 line\n",
      "this is 8 line\n",
      "this is 9 line\n",
      "\n"
     ]
    }
   ],
   "source": [
    "#function for reading a file data\n",
    "def readfile(filename):\n",
    "    f = open(filename,\"r\")\n",
    "    if f.mode == \"r\":\n",
    "        x = f.read()\n",
    "        print(x)\n",
    "    f.close()\n",
    "    return\n",
    "readfile(\"file1.txt\")\n"
   ]
  },
  {
   "cell_type": "code",
   "execution_count": 21,
   "metadata": {},
   "outputs": [
    {
     "name": "stdout",
     "output_type": "stream",
     "text": [
      "file is created\n"
     ]
    }
   ],
   "source": [
    "def createfile(filename):\n",
    "    f = open(filename,\"w\")\n",
    "    for i in range(10):\n",
    "        f.write(\"Test %d line\\n\" % i)\n",
    "    print(\"file is created\")\n",
    "    f.close()\n",
    "    return\n",
    "createfile(\"file1.txt\")"
   ]
  },
  {
   "cell_type": "code",
   "execution_count": 22,
   "metadata": {},
   "outputs": [
    {
     "name": "stdout",
     "output_type": "stream",
     "text": [
      "Test 0 line\n",
      "Test 1 line\n",
      "Test 2 line\n",
      "Test 3 line\n",
      "Test 4 line\n",
      "Test 5 line\n",
      "Test 6 line\n",
      "Test 7 line\n",
      "Test 8 line\n",
      "Test 9 line\n",
      "\n"
     ]
    }
   ],
   "source": [
    "def readfile(filename):\n",
    "    f = open(filename,\"r\")\n",
    "    if f.mode == \"r\":\n",
    "        x = f.read()\n",
    "        print(x)\n",
    "    f.close()\n",
    "    return\n",
    "readfile(\"file1.txt\")\n"
   ]
  },
  {
   "cell_type": "code",
   "execution_count": 23,
   "metadata": {},
   "outputs": [],
   "source": [
    "# data to append\n",
    "# Function to append the data to existing file\n",
    "def appendData(filename):\n",
    "    f=open(filename,\"a\")\n",
    "    f.write(\"new line 1\\n\")\n",
    "    f.write(\"new line\")\n",
    "    return\n",
    "appendData(\"file1.txt\")\n"
   ]
  },
  {
   "cell_type": "code",
   "execution_count": 24,
   "metadata": {},
   "outputs": [
    {
     "name": "stdout",
     "output_type": "stream",
     "text": [
      " Volume in drive C is OS\n",
      " Volume Serial Number is FA1E-2814\n",
      "\n",
      " Directory of C:\\Users\\Navyasri\\Desktop\\Python\n",
      "\n",
      "27-06-2019  11:35 AM    <DIR>          .\n",
      "27-06-2019  11:35 AM    <DIR>          ..\n",
      "27-06-2019  10:18 AM    <DIR>          .ipynb_checkpoints\n",
      "26-06-2019  05:03 PM             7,283 26-06-2019.ipynb\n",
      "27-06-2019  11:35 AM             5,816 27-06-2019.ipynb\n",
      "24-06-2019  05:07 PM             8,762 day 7(24-04-2019).ipynb\n",
      "27-06-2019  11:39 AM               150 file1.txt\n",
      "21-06-2019  03:59 PM                72 Untitled.ipynb\n",
      "21-06-2019  04:37 PM             1,743 Untitled1.ipynb\n",
      "22-06-2019  02:12 PM             3,885 Untitled2.ipynb\n",
      "22-06-2019  10:48 AM             4,219 Untitled3.ipynb\n",
      "23-06-2019  12:16 PM             5,188 Untitled4.ipynb\n",
      "25-06-2019  05:27 PM             6,618 Untitled5.ipynb\n",
      "              10 File(s)         43,736 bytes\n",
      "               3 Dir(s)  929,345,073,152 bytes free\n"
     ]
    }
   ],
   "source": [
    "ls"
   ]
  },
  {
   "cell_type": "code",
   "execution_count": 25,
   "metadata": {},
   "outputs": [
    {
     "name": "stdout",
     "output_type": "stream",
     "text": [
      "12\n"
     ]
    }
   ],
   "source": [
    "def DataAnalysisWorkCount(filename,word):\n",
    "    f=open(filename,\"r\")\n",
    "    if f.mode == \"r\":\n",
    "        x=f.read()\n",
    "        lst=x.split()\n",
    "    cnt = lst.count(word)\n",
    "    return cnt\n",
    "print(DataAnalysisWorkCount(\"file1.txt\",\"line\"))"
   ]
  },
  {
   "cell_type": "code",
   "execution_count": 26,
   "metadata": {},
   "outputs": [
    {
     "name": "stdout",
     "output_type": "stream",
     "text": [
      "139\n"
     ]
    }
   ],
   "source": [
    "# Count of Characters in the file\n",
    "def CountCharacter(filename):\n",
    "    f=open(filename,\"r\")\n",
    "    if f.mode == \"r\":\n",
    "        x=f.read()\n",
    "        lst=list(x)\n",
    "    return len(lst)\n",
    "print(CountCharacter(\"file1.txt\"))"
   ]
  },
  {
   "cell_type": "code",
   "execution_count": null,
   "metadata": {},
   "outputs": [],
   "source": [
    "# Function to count the Uppercase character from the diven file\n",
    "def uppercaseCount(filename):\n",
    "    f=open(filename,\"r\")\n",
    "    cntupper=0\n",
    "    if f.mode == \"r\":\n",
    "        x=f.read()\n",
    "        lst=list(x)\n",
    "    for i in lst:\n",
    "        if i.isupper():\n",
    "            cntupper +=1\n",
    "    return cntupper\n",
    "uppercaseCount(\"file1.txt\")"
   ]
  },
  {
   "cell_type": "code",
   "execution_count": 14,
   "metadata": {},
   "outputs": [
    {
     "data": {
      "text/plain": [
       "12"
      ]
     },
     "execution_count": 14,
     "metadata": {},
     "output_type": "execute_result"
    }
   ],
   "source": [
    "# Function to count of lines in given file\n",
    "def CountLine(filename):\n",
    "    f=open(filename,\"r\")\n",
    "    if f.mode == \"r\":\n",
    "        x=f.read()\n",
    "        lst=x.split(\"\\n\")\n",
    "    return len(lst)\n",
    "\n",
    "CountLine(\"file1.txt\")"
   ]
  },
  {
   "cell_type": "markdown",
   "metadata": {},
   "source": [
    "# Regular Expressions\n",
    "\n",
    "### ..Pattern Matching\n",
    "### ..symbolic Notation of a pattern\n",
    "### ..pattern(RE)represents the set of the values that a given pattern\n",
    "####  ...[0-9] -->Any Digit\n",
    "####  ...[a-z] -->any lower case characters\n",
    "#### ...[A-Z] -->any upper case characters\n",
    "#### ...[2468] -->All the single digit multiples of 2\n",
    "#### ...[0-9]{1} $-->only single digit number\n",
    "cap symble is used for start of regular expression\n",
    "dollar symbol is uesd to end of the regular expression\n",
    "^[0-9]{3}$-->Regular Expression will accept only three digit number\n",
    "^[a-z]{5}$-->Regular Expression accepts only 5 character string that to lower case characters\n",
    "*^[a-zA-Z]{6}$-->a string can be of upper /lower case characters of length 6\n",
    "*^[6-9][0-9]{9}$-->RE for indian mobile number\n",
    "^[0][6-9][0-9]{9}-->for first number is 0 and an indian mobile number\n",
    "[+][9][1][6-9][0-9]{9}$-->for first number+91 indian mobile number\n"
   ]
  },
  {
   "cell_type": "code",
   "execution_count": 17,
   "metadata": {},
   "outputs": [
    {
     "name": "stdout",
     "output_type": "stream",
     "text": [
      "True\n",
      "False\n"
     ]
    }
   ],
   "source": [
    "import re\n",
    "def phoneNumberValidate(phone):\n",
    "    pattern = '^[6-9][0-9]{9}$'\n",
    "    phone = str(phone)\n",
    "    if re.match(pattern,phone):\n",
    "        return True\n",
    "    return False\n",
    "print(phoneNumberValidate(9866059399))\n",
    "print(phoneNumberValidate(3215414))"
   ]
  },
  {
   "cell_type": "markdown",
   "metadata": {},
   "source": [
    "## username\n",
    "                  *length will be[6-15]\n",
    "                  *no special characters apart from _\n",
    "                  *should not begin and end with _\n",
    "                  *character set : All Digits and lower case alapha\n",
    "## domain Name:\n",
    "                      *length of domain :[3,18]\n",
    "                      *no spl characters\n",
    "                      *characters set:all digits and lower case alph \n",
    "## Extention:\n",
    "                  *Length of extention:[2,4]\n",
    "                  *no spl characters\n",
    "                  *characters set : Lower case characters"
   ]
  },
  {
   "cell_type": "code",
   "execution_count": 22,
   "metadata": {},
   "outputs": [
    {
     "name": "stdout",
     "output_type": "stream",
     "text": [
      "True\n",
      "True\n"
     ]
    }
   ],
   "source": [
    "import re\n",
    "def validateEmailID(email):\n",
    "    pattern = \"^[0-9a-z][0-9a-z_.]{4,13}[0-9a-z][@][a-z0-9]{3,18}[.][a-z]{2,4}$\"\n",
    "    if re.match(pattern,email):\n",
    "        return True\n",
    "    return False\n",
    "print(validateEmailID(\"221810304029@gmail.com\"))\n",
    "print(validateEmailID(\"navyasri@gmail.com\"))\n"
   ]
  },
  {
   "cell_type": "markdown",
   "metadata": {},
   "source": []
  },
  {
   "cell_type": "code",
   "execution_count": null,
   "metadata": {},
   "outputs": [],
   "source": []
  }
 ],
 "metadata": {
  "kernelspec": {
   "display_name": "Python 3",
   "language": "python",
   "name": "python3"
  },
  "language_info": {
   "codemirror_mode": {
    "name": "ipython",
    "version": 3
   },
   "file_extension": ".py",
   "mimetype": "text/x-python",
   "name": "python",
   "nbconvert_exporter": "python",
   "pygments_lexer": "ipython3",
   "version": "3.7.3"
  }
 },
 "nbformat": 4,
 "nbformat_minor": 2
}
